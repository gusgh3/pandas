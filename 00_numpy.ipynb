{
 "cells": [
  {
   "cell_type": "code",
   "execution_count": 1,
   "id": "b18afb23-0f06-4fb4-bd84-44feb7fcacb9",
   "metadata": {},
   "outputs": [],
   "source": [
    "import numpy as np"
   ]
  },
  {
   "cell_type": "code",
   "execution_count": 3,
   "id": "e5eeb216-de4d-43a6-9017-359813df6e81",
   "metadata": {},
   "outputs": [],
   "source": [
    "my_arr = np.arange(10000000)\n",
    "my_list = list(range(1000000))"
   ]
  },
  {
   "cell_type": "code",
   "execution_count": 4,
   "id": "d542aa00-7549-483e-962d-8e3ccb4f6b00",
   "metadata": {},
   "outputs": [
    {
     "name": "stdout",
     "output_type": "stream",
     "text": [
      "21.6 ms ± 2.39 ms per loop (mean ± std. dev. of 7 runs, 10 loops each)\n",
      "56.2 ms ± 3.89 ms per loop (mean ± std. dev. of 7 runs, 10 loops each)\n"
     ]
    }
   ],
   "source": [
    "%timeit my_arr2 = my_arr * 2\n",
    "%timeit my_list2 = [x* 2 for x in my_list]"
   ]
  },
  {
   "cell_type": "code",
   "execution_count": 5,
   "id": "075a502c-9d98-42c8-b51e-f072ebfaf793",
   "metadata": {},
   "outputs": [
    {
     "name": "stdout",
     "output_type": "stream",
     "text": [
      "[[   5.     1.1   -5. ]\n",
      " [ 123.  -123.     0. ]]\n"
     ]
    }
   ],
   "source": [
    "a = [\n",
    "    [5, 1.1, -5], [123, -123, 0]\n",
    "]\n",
    "data = np.array(a)\n",
    "print(data)"
   ]
  },
  {
   "cell_type": "code",
   "execution_count": 6,
   "id": "4f92e306-d778-4344-b252-1920600bbd8d",
   "metadata": {},
   "outputs": [
    {
     "name": "stdout",
     "output_type": "stream",
     "text": [
      "[[   50.    11.   -50.]\n",
      " [ 1230. -1230.     0.]]\n",
      "[[  10.     2.2  -10. ]\n",
      " [ 246.  -246.     0. ]]\n"
     ]
    }
   ],
   "source": [
    "print(data * 10)\n",
    "print(data + data)"
   ]
  },
  {
   "cell_type": "code",
   "execution_count": 7,
   "id": "c83a2405-156d-40f9-8e22-14b0b6b2c8bd",
   "metadata": {},
   "outputs": [
    {
     "name": "stdout",
     "output_type": "stream",
     "text": [
      "(2, 3)\n",
      "float64\n"
     ]
    }
   ],
   "source": [
    "print(data.shape)\n",
    "print(data.dtype)"
   ]
  },
  {
   "cell_type": "markdown",
   "id": "c7248885-d270-4e8b-9af0-90520ec1b04c",
   "metadata": {},
   "source": [
    "## 1.1 ndarray 생성"
   ]
  },
  {
   "cell_type": "code",
   "execution_count": 10,
   "id": "b883c617-685d-4cf2-9562-269d6ea81056",
   "metadata": {},
   "outputs": [
    {
     "name": "stdout",
     "output_type": "stream",
     "text": [
      "[4.  2.  1.  6.  3.1]\n"
     ]
    }
   ],
   "source": [
    "my_list = [4, 2, 1, 6, 3.1]\n",
    "arr = np.array(my_list)\n",
    "print(arr)"
   ]
  },
  {
   "cell_type": "code",
   "execution_count": 12,
   "id": "49df94c5-0bdf-4d07-82f6-5afba71ee4ba",
   "metadata": {},
   "outputs": [
    {
     "name": "stdout",
     "output_type": "stream",
     "text": [
      "[[1 2 3 4]\n",
      " [5 6 7 8]]\n"
     ]
    }
   ],
   "source": [
    "my_list2 =[[1, 2, 3, 4], [5, 6, 7, 8]]\n",
    "arr2 = np.array(my_list2)\n",
    "print(arr2)\n"
   ]
  },
  {
   "cell_type": "code",
   "execution_count": 16,
   "id": "a2024d24-c17c-40c3-ae5d-caa5d2c3c452",
   "metadata": {},
   "outputs": [
    {
     "name": "stdout",
     "output_type": "stream",
     "text": [
      "float64\n",
      "int64\n"
     ]
    }
   ],
   "source": [
    "print(arr.dtype)\n",
    "print(arr2.dtype)"
   ]
  },
  {
   "cell_type": "code",
   "execution_count": 17,
   "id": "47c835f6-486e-4226-9944-e12a13f392fa",
   "metadata": {},
   "outputs": [
    {
     "name": "stdout",
     "output_type": "stream",
     "text": [
      "1\n",
      "2\n"
     ]
    }
   ],
   "source": [
    "print(arr.ndim) #ndim: 차원 수를 물어보는 것. 1차원 2차원 등.\n",
    "print(arr2.ndim)\n"
   ]
  },
  {
   "cell_type": "code",
   "execution_count": 18,
   "id": "ede5e0bf-27d3-411b-8c88-1a2f5e2bd7fe",
   "metadata": {},
   "outputs": [
    {
     "name": "stdout",
     "output_type": "stream",
     "text": [
      "(5,)\n",
      "(2, 4)\n"
     ]
    }
   ],
   "source": [
    "print(arr.shape)\n",
    "print(arr2.shape)"
   ]
  },
  {
   "cell_type": "code",
   "execution_count": 21,
   "id": "8701438b-9e2c-4c7a-9f33-dbe33f6ad392",
   "metadata": {},
   "outputs": [
    {
     "name": "stdout",
     "output_type": "stream",
     "text": [
      "[0. 0. 0. 0. 0. 0. 0. 0. 0. 0.]\n",
      "[[0. 0. 0. 0. 0.]\n",
      " [0. 0. 0. 0. 0.]\n",
      " [0. 0. 0. 0. 0.]\n",
      " [0. 0. 0. 0. 0.]\n",
      " [0. 0. 0. 0. 0.]]\n",
      "[[[4.67296746e-307 1.69121096e-306 9.45694586e-308 9.34577196e-307]\n",
      "  [1.37962456e-306 3.22647253e-307 7.56601165e-307 1.69118787e-306]\n",
      "  [1.33511290e-306 1.11258854e-306 1.11261502e-306 1.42410839e-306]]\n",
      "\n",
      " [[7.56597770e-307 6.23059726e-307 1.78022342e-306 6.23058028e-307]\n",
      "  [1.29062025e-306 1.24610723e-306 1.37961641e-306 1.86919649e-306]\n",
      "  [7.56587585e-307 6.89810583e-307 8.45606836e-307 2.22522596e-306]]]\n"
     ]
    }
   ],
   "source": [
    "print(np.zeros(10))\n",
    "print(np.zeros((5, 5))) #튜플 사용\n",
    "print(np.empty((2, 3, 4)))"
   ]
  },
  {
   "cell_type": "code",
   "execution_count": 22,
   "id": "e2171824-099d-4d84-83c8-e2566b0779e6",
   "metadata": {},
   "outputs": [
    {
     "name": "stdout",
     "output_type": "stream",
     "text": [
      "[ 0  1  2  3  4  5  6  7  8  9 10 11]\n"
     ]
    }
   ],
   "source": [
    "print(np.arange(12))"
   ]
  },
  {
   "cell_type": "markdown",
   "id": "38605658-2c2a-4f07-8831-2817e44b84d6",
   "metadata": {},
   "source": [
    "## 1.2 자료형"
   ]
  },
  {
   "cell_type": "code",
   "execution_count": 24,
   "id": "2ff8f11d-13e0-4d9f-8a56-eea540d8f185",
   "metadata": {},
   "outputs": [
    {
     "name": "stdout",
     "output_type": "stream",
     "text": [
      "float64\n",
      "int32\n"
     ]
    }
   ],
   "source": [
    "arr1 = np.array([1, 2, 3], dtype=np.float64)\n",
    "arr2 = np.array([1, 2, 3], dtype=np.int32)\n",
    "\n",
    "print(arr1.dtype)\n",
    "print(arr2.dtype)\n"
   ]
  },
  {
   "cell_type": "code",
   "execution_count": 27,
   "id": "b46cfa3b-9952-47a2-99a0-2bafd198d0b0",
   "metadata": {},
   "outputs": [
    {
     "name": "stdout",
     "output_type": "stream",
     "text": [
      "[1 2 3 4 5]\n"
     ]
    },
    {
     "ename": "NameError",
     "evalue": "name 'float_arr' is not defined",
     "output_type": "error",
     "traceback": [
      "\u001b[1;31m---------------------------------------------------------------------------\u001b[0m",
      "\u001b[1;31mNameError\u001b[0m                                 Traceback (most recent call last)",
      "Cell \u001b[1;32mIn[27], line 4\u001b[0m\n\u001b[0;32m      2\u001b[0m \u001b[38;5;28mprint\u001b[39m(arr)\n\u001b[0;32m      3\u001b[0m float_array \u001b[38;5;241m=\u001b[39m arr\u001b[38;5;241m.\u001b[39mastype(np\u001b[38;5;241m.\u001b[39mfloat32)\n\u001b[1;32m----> 4\u001b[0m \u001b[38;5;28mprint\u001b[39m(\u001b[43mfloat_arr\u001b[49m)\n\u001b[0;32m      5\u001b[0m \u001b[38;5;28mprint\u001b[39m(float_arr\u001b[38;5;241m.\u001b[39mdtype)\n",
      "\u001b[1;31mNameError\u001b[0m: name 'float_arr' is not defined"
     ]
    }
   ],
   "source": [
    "arr = np.array([1, 2, 3, 4, 5])\n",
    "print(arr)\n",
    "float_array = arr.astype(np.float32)\n",
    "print(float_arr)\n",
    "print(float_arr.dtype)"
   ]
  },
  {
   "cell_type": "code",
   "execution_count": 28,
   "id": "1575902a-b9e4-4a53-acfa-1b8397685e6e",
   "metadata": {},
   "outputs": [
    {
     "name": "stdout",
     "output_type": "stream",
     "text": [
      "[ 1  2  3 -1 -2 -3]\n"
     ]
    }
   ],
   "source": [
    "arr =np.array([1.1, 2.2, 3.3, -1.1, -2.2, -3.3])\n",
    "result = arr.astype(np.int32)\n",
    "print(result)"
   ]
  },
  {
   "cell_type": "code",
   "execution_count": null,
   "id": "47f2bb98-316f-4ff8-a44e-6c007d08c8c8",
   "metadata": {},
   "outputs": [],
   "source": [
    "np.array(['12','34','56'], dtype=np.int32)\n"
   ]
  },
  {
   "cell_type": "markdown",
   "id": "7292f592-27dc-441a-a167-da9ba46e307e",
   "metadata": {},
   "source": [
    "## 1.3 연산"
   ]
  },
  {
   "cell_type": "code",
   "execution_count": 29,
   "id": "2b299189-f7d9-40fc-b2f0-3a568dc4e2db",
   "metadata": {},
   "outputs": [],
   "source": [
    "a = [\n",
    "    [1,2,3], [4,5,6]\n",
    "]\n",
    "\n",
    "arr = np.array(a)"
   ]
  },
  {
   "cell_type": "code",
   "execution_count": 30,
   "id": "04c7f2bf-b7fa-41ab-878c-d56031838a8e",
   "metadata": {},
   "outputs": [
    {
     "name": "stdout",
     "output_type": "stream",
     "text": [
      "[[1 2 3]\n",
      " [4 5 6]]\n"
     ]
    }
   ],
   "source": [
    "print(arr)"
   ]
  },
  {
   "cell_type": "code",
   "execution_count": 35,
   "id": "0b6a0e7d-d90b-4c77-8f27-e8ebe1af8545",
   "metadata": {},
   "outputs": [
    {
     "name": "stdout",
     "output_type": "stream",
     "text": [
      "[[ 2  4  6]\n",
      " [ 8 10 12]]\n",
      "[[0 0 0]\n",
      " [0 0 0]]\n"
     ]
    }
   ],
   "source": [
    "print(arr + arr)\n",
    "print(arr - arr)"
   ]
  },
  {
   "cell_type": "code",
   "execution_count": 34,
   "id": "7d1ea9d5-d8de-4d5c-89ae-09f2ad5347b8",
   "metadata": {},
   "outputs": [
    {
     "name": "stdout",
     "output_type": "stream",
     "text": [
      "[[0.1 0.2 0.3]\n",
      " [0.4 0.5 0.6]]\n",
      "[[ 1  4  9]\n",
      " [16 25 36]]\n"
     ]
    }
   ],
   "source": [
    "print(arr /10)\n",
    "print(arr ** 2)"
   ]
  },
  {
   "cell_type": "code",
   "execution_count": 36,
   "id": "2eb8e5c6-19a3-492b-8422-03211aaa0cfd",
   "metadata": {},
   "outputs": [
    {
     "name": "stdout",
     "output_type": "stream",
     "text": [
      "[[1 2 3]\n",
      " [4 5 6]]\n",
      "[[3 2 1]\n",
      " [6 5 4]]\n",
      "[[False False  True]\n",
      " [False False  True]]\n"
     ]
    }
   ],
   "source": [
    "b = [\n",
    "    [3, 2, 1],\n",
    "    [6, 5, 4]\n",
    "\n",
    "]\n",
    "arr2 = np.array(b)\n",
    "\n",
    "print(arr)\n",
    "print(arr2)\n",
    "print(arr > arr2)"
   ]
  },
  {
   "cell_type": "markdown",
   "id": "49b732a9-bcc4-4009-b601-44936a6b0c5d",
   "metadata": {},
   "source": [
    "## 1.4 인덱싱(원하는 데이터를 뽑는 것), 슬라이싱(원하는 데이터 범위를 부분적으로 딱 잘라 추출하는 것)"
   ]
  },
  {
   "cell_type": "code",
   "execution_count": 39,
   "id": "f2d237cd-f3a8-408e-96fd-195272f6b639",
   "metadata": {},
   "outputs": [
    {
     "name": "stdout",
     "output_type": "stream",
     "text": [
      "[0 1 2 3 4 5 6 7 8 9]\n",
      "5\n",
      "[3 4 5]\n",
      "[ 0  1  2 99 99 99  6  7  8  9]\n"
     ]
    }
   ],
   "source": [
    "arr = np.arange(10)\n",
    "print(arr)\n",
    "print(arr[5])\n",
    "print(arr[3:6])\n",
    "\n",
    "arr[3:6] = 99\n",
    "print(arr)"
   ]
  },
  {
   "cell_type": "code",
   "execution_count": 40,
   "id": "ef21064a-d938-4e15-a516-6e27684af61a",
   "metadata": {},
   "outputs": [
    {
     "name": "stdout",
     "output_type": "stream",
     "text": [
      "[99 99 99]\n"
     ]
    }
   ],
   "source": [
    "slice_arr = arr[3:6]\n",
    "print(slice_arr)"
   ]
  },
  {
   "cell_type": "code",
   "execution_count": 41,
   "id": "3145a343-aef8-4530-a25f-778add16bef1",
   "metadata": {},
   "outputs": [
    {
     "name": "stdout",
     "output_type": "stream",
     "text": [
      "[99 55 99]\n",
      "[ 0  1  2 99 55 99  6  7  8  9]\n"
     ]
    }
   ],
   "source": [
    "slice_arr[1] = 55\n",
    "print(slice_arr)\n",
    "print(arr)"
   ]
  },
  {
   "cell_type": "code",
   "execution_count": 43,
   "id": "d4270904-6475-4329-b1e3-cf52a4a0df7c",
   "metadata": {},
   "outputs": [
    {
     "name": "stdout",
     "output_type": "stream",
     "text": [
      "[  0   1   2 100 100 100   6   7   8   9]\n"
     ]
    }
   ],
   "source": [
    "slice_arr[:] = 100\n",
    "print(arr)\n"
   ]
  },
  {
   "cell_type": "code",
   "execution_count": 44,
   "id": "77aa0175-0063-4476-b26d-9ed956f9042e",
   "metadata": {},
   "outputs": [],
   "source": [
    "a = [\n",
    "    [1, 2, 3],\n",
    "    [4, 5, 6],\n",
    "    [7, 8, 9]\n",
    "]\n",
    "arr = np.array(a)"
   ]
  },
  {
   "cell_type": "code",
   "execution_count": 48,
   "id": "cdc398dd-f3d1-47fa-b8d5-9205216dbc83",
   "metadata": {},
   "outputs": [
    {
     "name": "stdout",
     "output_type": "stream",
     "text": [
      "5\n",
      "5\n"
     ]
    }
   ],
   "source": [
    "print(arr[1][1])\n",
    "print(arr[1,1])"
   ]
  },
  {
   "cell_type": "code",
   "execution_count": 49,
   "id": "d93f0a4d-fefe-4c69-8077-fd9eee165d8a",
   "metadata": {},
   "outputs": [
    {
     "name": "stdout",
     "output_type": "stream",
     "text": [
      "[[[ 1  2  3]\n",
      "  [ 4  5  6]]\n",
      "\n",
      " [[ 7  8  9]\n",
      "  [10 11 12]]]\n"
     ]
    }
   ],
   "source": [
    "a = [\n",
    "    [\n",
    "        [1, 2, 3],\n",
    "        [4, 5, 6]\n",
    "    ],\n",
    "    [\n",
    "        [7, 8, 9],\n",
    "        [10, 11, 12]\n",
    "\n",
    "    ]\n",
    "    \n",
    "]\n",
    "arr = np.array(a)\n",
    "print(arr)"
   ]
  },
  {
   "cell_type": "code",
   "execution_count": 53,
   "id": "9eb115a7-d649-4b00-bffc-1c2cb2214ca6",
   "metadata": {},
   "outputs": [
    {
     "name": "stdout",
     "output_type": "stream",
     "text": [
      "[[1 2 3]\n",
      " [4 5 6]]\n",
      "1\n",
      "1\n"
     ]
    }
   ],
   "source": [
    "print(arr[0])\n",
    "print(arr[0][0][0])\n",
    "print(arr[0,0,0])"
   ]
  },
  {
   "cell_type": "code",
   "execution_count": 74,
   "id": "26b59058-f74c-4bee-8fe1-2e1b31a6a03e",
   "metadata": {},
   "outputs": [
    {
     "name": "stdout",
     "output_type": "stream",
     "text": [
      "[0 1 2 3 4 5 6 7 8 9]\n",
      "[1 2 3 4 5 6 7 8 9]\n"
     ]
    }
   ],
   "source": [
    "arr = np.arange(10)\n",
    "print(arr)\n",
    "print(arr[1:])\n",
    "\n",
    "# 데이터를 슬라이싱할 때 인덱스 번호 관점으로 생각하기 [0 배열부터 시작하는] '1:' 1(일반기준) 이상 범위, ':1' 1(일반기준) 미만 범위라고 단순히 생각하면 될 듯, 그리 중요한 거 아님"
   ]
  },
  {
   "cell_type": "code",
   "execution_count": 70,
   "id": "561e7329-52df-450f-a9b7-03af81f621db",
   "metadata": {},
   "outputs": [
    {
     "data": {
      "text/plain": [
       "array([0, 1])"
      ]
     },
     "execution_count": 70,
     "metadata": {},
     "output_type": "execute_result"
    }
   ],
   "source": [
    "arr = np.arange(10)\n",
    "arr[:2]"
   ]
  },
  {
   "cell_type": "code",
   "execution_count": 64,
   "id": "3bf2c9d1-cc07-4fd9-8209-abdf0c5f26ae",
   "metadata": {},
   "outputs": [
    {
     "data": {
      "text/plain": [
       "array([[0, 1, 2],\n",
       "       [3, 4, 5]])"
      ]
     },
     "execution_count": 64,
     "metadata": {},
     "output_type": "execute_result"
    }
   ],
   "source": [
    "arr2d = np.arange(9).reshape(3, 3)\n",
    "arr2d[:2]"
   ]
  },
  {
   "cell_type": "code",
   "execution_count": 65,
   "id": "d17ca07c-7fa0-4d8c-9050-40f114d22a0a",
   "metadata": {},
   "outputs": [
    {
     "data": {
      "text/plain": [
       "array([[1, 2],\n",
       "       [4, 5]])"
      ]
     },
     "execution_count": 65,
     "metadata": {},
     "output_type": "execute_result"
    }
   ],
   "source": [
    "arr2d[:2, 1:]"
   ]
  },
  {
   "cell_type": "code",
   "execution_count": 66,
   "id": "17017809-042d-46eb-92f9-f9056d8acd0f",
   "metadata": {},
   "outputs": [
    {
     "data": {
      "text/plain": [
       "array([3, 4])"
      ]
     },
     "execution_count": 66,
     "metadata": {},
     "output_type": "execute_result"
    }
   ],
   "source": [
    "arr2d[1, :2]"
   ]
  },
  {
   "cell_type": "code",
   "execution_count": 67,
   "id": "6a96a0f4-9fea-46fc-b036-ec4637a03f48",
   "metadata": {},
   "outputs": [
    {
     "data": {
      "text/plain": [
       "array([[0],\n",
       "       [3],\n",
       "       [6]])"
      ]
     },
     "execution_count": 67,
     "metadata": {},
     "output_type": "execute_result"
    }
   ],
   "source": [
    "arr2d[: , :1]"
   ]
  },
  {
   "cell_type": "markdown",
   "id": "6407b9c1-df53-43b3-8faa-4d2454738c00",
   "metadata": {},
   "source": [
    "## 불리언?"
   ]
  },
  {
   "cell_type": "code",
   "execution_count": 79,
   "id": "53ea2461-e229-4cb2-8634-880caccbeb14",
   "metadata": {},
   "outputs": [],
   "source": [
    "names = ['hong', 'kim', 'park', 'kim']\n",
    "scores = [\n",
    "    ['수학', 70],\n",
    "    ['영어', 80],\n",
    "    ['수학', 100],\n",
    "    ['수학', 90],\n",
    "]\n",
    "\n",
    "names_arr = np.array(name)\n",
    "scores_arr = np.array(scores)\n"
   ]
  },
  {
   "cell_type": "code",
   "execution_count": 80,
   "id": "ea38688e-d375-465d-b2ef-cb428f2cb47e",
   "metadata": {},
   "outputs": [
    {
     "name": "stdout",
     "output_type": "stream",
     "text": [
      "['hong' 'kim' 'park' 'kim']\n",
      "[['수학' '70']\n",
      " ['영어' '80']\n",
      " ['수학' '100']\n",
      " ['수학' '90']]\n"
     ]
    }
   ],
   "source": [
    "print(names_arr)\n",
    "print(scores_arr)"
   ]
  },
  {
   "cell_type": "code",
   "execution_count": 84,
   "id": "2e7691e8-a84e-4679-a15a-27e60f6b857a",
   "metadata": {},
   "outputs": [
    {
     "data": {
      "text/plain": [
       "array([False, False,  True, False])"
      ]
     },
     "execution_count": 84,
     "metadata": {},
     "output_type": "execute_result"
    }
   ],
   "source": [
    "names_arr == 'park'"
   ]
  },
  {
   "cell_type": "code",
   "execution_count": 86,
   "id": "274d399d-29d2-4b4b-a697-2912c4c16a52",
   "metadata": {},
   "outputs": [
    {
     "data": {
      "text/plain": [
       "array([['수학', '100']], dtype='<U21')"
      ]
     },
     "execution_count": 86,
     "metadata": {},
     "output_type": "execute_result"
    }
   ],
   "source": [
    "scores_arr[names_arr == 'park']"
   ]
  },
  {
   "cell_type": "code",
   "execution_count": 87,
   "id": "97212792-b484-4d2b-9afc-c7f741e47064",
   "metadata": {},
   "outputs": [
    {
     "data": {
      "text/plain": [
       "array([['영어', '80'],\n",
       "       ['수학', '90']], dtype='<U21')"
      ]
     },
     "execution_count": 87,
     "metadata": {},
     "output_type": "execute_result"
    }
   ],
   "source": [
    "scores_arr[names_arr == 'kim', 1:]"
   ]
  },
  {
   "cell_type": "code",
   "execution_count": 88,
   "id": "e226a66d-ee70-450d-ba74-fd111cfd36c9",
   "metadata": {},
   "outputs": [
    {
     "data": {
      "text/plain": [
       "array(['영어', '수학'], dtype='<U21')"
      ]
     },
     "execution_count": 88,
     "metadata": {},
     "output_type": "execute_result"
    }
   ],
   "source": [
    "scores_arr[names_arr == 'kim', 0]"
   ]
  },
  {
   "cell_type": "code",
   "execution_count": 89,
   "id": "cd9a4e4a-0541-41b5-9070-503a863f5459",
   "metadata": {},
   "outputs": [
    {
     "name": "stdout",
     "output_type": "stream",
     "text": [
      "[ True False  True False]\n",
      "[ True False  True False]\n"
     ]
    }
   ],
   "source": [
    "print(names_arr != 'kim')\n",
    "print(~(names_arr == 'kim'))"
   ]
  },
  {
   "cell_type": "code",
   "execution_count": 90,
   "id": "b25aa68c-2a3e-4d50-a6ba-6f8e0f945c09",
   "metadata": {},
   "outputs": [
    {
     "data": {
      "text/plain": [
       "array([['수학', '70']], dtype='<U21')"
      ]
     },
     "execution_count": 90,
     "metadata": {},
     "output_type": "execute_result"
    }
   ],
   "source": [
    "cond = names_arr == 'hong'\n",
    "scores_arr[cond]"
   ]
  },
  {
   "cell_type": "code",
   "execution_count": 91,
   "id": "a53756dd-cdfc-4b8b-852e-58d5435603e5",
   "metadata": {},
   "outputs": [
    {
     "data": {
      "text/plain": [
       "array([['영어', '80'],\n",
       "       ['수학', '100'],\n",
       "       ['수학', '90']], dtype='<U21')"
      ]
     },
     "execution_count": 91,
     "metadata": {},
     "output_type": "execute_result"
    }
   ],
   "source": [
    "cond = (names_arr == 'kim') | (names_arr == 'park')\n",
    "scores_arr[cond]"
   ]
  },
  {
   "cell_type": "markdown",
   "id": "81b20f4c-b107-4b96-a926-180933dba9a4",
   "metadata": {},
   "source": [
    "## 1.6 팬시 인덱시\n",
    "\n",
    "인덱싱 작업을 여러번(복수로) 하는 것"
   ]
  },
  {
   "cell_type": "code",
   "execution_count": 99,
   "id": "decaa9f1-22bc-4ab5-8236-fbf8c3137908",
   "metadata": {},
   "outputs": [
    {
     "name": "stdout",
     "output_type": "stream",
     "text": [
      "[[ 0  1  2  3]\n",
      " [ 4  5  6  7]\n",
      " [ 8  9 10 11]\n",
      " [12 13 14 15]\n",
      " [16 17 18 19]\n",
      " [20 21 22 23]\n",
      " [24 25 26 27]\n",
      " [28 29 30 31]]\n"
     ]
    }
   ],
   "source": [
    "arr = np.arange(32).reshape(8,4)\n",
    "print(arr)"
   ]
  },
  {
   "cell_type": "code",
   "execution_count": 104,
   "id": "8236bd01-3439-43ba-9e36-4b6b6b55a9db",
   "metadata": {},
   "outputs": [
    {
     "name": "stdout",
     "output_type": "stream",
     "text": [
      "[[ 0  1  2  3]\n",
      " [12 13 14 15]\n",
      " [ 8  9 10 11]\n",
      " [ 4  5  6  7]\n",
      " [24 25 26 27]]\n"
     ]
    }
   ],
   "source": [
    "print(arr[[0, 3, 2, 1, 6]])"
   ]
  },
  {
   "cell_type": "code",
   "execution_count": 103,
   "id": "8a3c6dc0-93da-4f90-a2a5-faeb7c07f97d",
   "metadata": {},
   "outputs": [
    {
     "name": "stdout",
     "output_type": "stream",
     "text": [
      "[[20 21 22 23]\n",
      " [28 29 30 31]]\n"
     ]
    }
   ],
   "source": [
    "print(arr[[-3, -1]])"
   ]
  },
  {
   "cell_type": "code",
   "execution_count": 108,
   "id": "d2872c07-88f2-488f-bcf4-75de2e6a19bf",
   "metadata": {},
   "outputs": [
    {
     "data": {
      "text/plain": [
       "array([15, 10,  5])"
      ]
     },
     "execution_count": 108,
     "metadata": {},
     "output_type": "execute_result"
    }
   ],
   "source": [
    "arr[[3, 2, 1], [3, 2, 1]] #특정 행열 번호(데이터)를 가져올 때 활용하는 것(이때 행열 번호는 0부터 시작하는 배열을 기준으로 함)+ \"값 = \"을 붙이면 해당 값을 할당할 때도 사용 가능"
   ]
  },
  {
   "cell_type": "markdown",
   "id": "b110688c-a825-4f33-9ed9-7e5cce23408f",
   "metadata": {},
   "source": [
    "## 1.7 전치 \n",
    "\n",
    "대각선 기준, 가로 세로를 대칭으로 바꾸는 것"
   ]
  },
  {
   "cell_type": "code",
   "execution_count": 112,
   "id": "d57a204a-fdb1-4b68-ace2-f906783e03a2",
   "metadata": {},
   "outputs": [
    {
     "name": "stdout",
     "output_type": "stream",
     "text": [
      "[[ 0  1  2  3  4]\n",
      " [ 5  6  7  8  9]\n",
      " [10 11 12 13 14]]\n",
      "[[ 0  5 10]\n",
      " [ 1  6 11]\n",
      " [ 2  7 12]\n",
      " [ 3  8 13]\n",
      " [ 4  9 14]]\n"
     ]
    }
   ],
   "source": [
    "arr = np.arange(15).reshape(3, 5)\n",
    "print(arr)\n",
    "print(arr.T)"
   ]
  },
  {
   "cell_type": "code",
   "execution_count": 117,
   "id": "561abba6-12ec-491b-866f-24e9f726f7a9",
   "metadata": {},
   "outputs": [
    {
     "name": "stdout",
     "output_type": "stream",
     "text": [
      "[[ 30  80 130]\n",
      " [ 80 255 430]\n",
      " [130 430 730]]\n",
      "[[ 30  80 130]\n",
      " [ 80 255 430]\n",
      " [130 430 730]]\n"
     ]
    }
   ],
   "source": [
    "print(np.dot(arr, arr.T))\n",
    "print(arr @ arr.T)"
   ]
  },
  {
   "cell_type": "markdown",
   "id": "b908c5f6-92c3-45ab-baf3-f78e81489fc8",
   "metadata": {},
   "source": [
    "### 난수 생성"
   ]
  },
  {
   "cell_type": "code",
   "execution_count": 122,
   "id": "11a07778-1254-4c34-8098-13a0c62d95d7",
   "metadata": {},
   "outputs": [
    {
     "name": "stdout",
     "output_type": "stream",
     "text": [
      "[[-0.26659879 -0.39355649  0.1664299  -0.15855752]\n",
      " [-0.20923068  2.51712943 -0.72223488 -0.12987793]\n",
      " [ 0.72489752  0.48960502 -0.68074214  0.19153839]\n",
      " [ 0.90175524 -1.24292365  0.44627056  0.66606858]]\n"
     ]
    }
   ],
   "source": [
    "sample = np.random.standard_normal(size=(4, 4))\n",
    "print(sample)"
   ]
  },
  {
   "cell_type": "code",
   "execution_count": 125,
   "id": "f0344fd6-4619-49fc-becb-0dd47a2a54cc",
   "metadata": {},
   "outputs": [
    {
     "name": "stdout",
     "output_type": "stream",
     "text": [
      "[[       nan        nan 0.40795821        nan]\n",
      " [       nan 1.58654638        nan        nan]\n",
      " [0.85140914 0.69971781        nan 0.43765099]\n",
      " [0.94960794        nan 0.66803485 0.81613025]]\n"
     ]
    },
    {
     "name": "stderr",
     "output_type": "stream",
     "text": [
      "C:\\Users\\2-10\\AppData\\Local\\Temp\\ipykernel_2584\\2344619755.py:1: RuntimeWarning: invalid value encountered in sqrt\n",
      "  print(np.sqrt(sample))\n"
     ]
    }
   ],
   "source": [
    "print(np.sqrt(sample))"
   ]
  },
  {
   "cell_type": "code",
   "execution_count": 128,
   "id": "c562bc3f-4118-4da7-bdbd-3bce27874502",
   "metadata": {},
   "outputs": [
    {
     "name": "stdout",
     "output_type": "stream",
     "text": [
      "[[0.26659879 0.39355649 0.1664299  0.15855752]\n",
      " [0.20923068 2.51712943 0.72223488 0.12987793]\n",
      " [0.72489752 0.48960502 0.68074214 0.19153839]\n",
      " [0.90175524 1.24292365 0.44627056 0.66606858]]\n"
     ]
    }
   ],
   "source": [
    "print(np.abs(sample)) #abs 절대값 도출 명령어"
   ]
  },
  {
   "cell_type": "code",
   "execution_count": 131,
   "id": "f9f9d64a-84b8-45bf-a913-e2d053a1509f",
   "metadata": {},
   "outputs": [
    {
     "name": "stderr",
     "output_type": "stream",
     "text": [
      "C:\\Users\\2-10\\AppData\\Local\\Temp\\ipykernel_2584\\343223445.py:1: RuntimeWarning: invalid value encountered in sqrt\n",
      "  np.isnan(np.sqrt(sample)) #nan 데이터는 true, nan아닌 데이터는 false로 처리\n"
     ]
    },
    {
     "data": {
      "text/plain": [
       "array([[ True,  True, False,  True],\n",
       "       [ True, False,  True,  True],\n",
       "       [False, False,  True, False],\n",
       "       [False,  True, False, False]])"
      ]
     },
     "execution_count": 131,
     "metadata": {},
     "output_type": "execute_result"
    }
   ],
   "source": [
    "np.isnan(np.sqrt(sample)) #nan 데이터는 true, nan아닌 데이터는 false로 처리"
   ]
  },
  {
   "cell_type": "code",
   "execution_count": 135,
   "id": "3ac94e9e-e4c4-481f-aa96-8bc8e5de975d",
   "metadata": {},
   "outputs": [
    {
     "name": "stdout",
     "output_type": "stream",
     "text": [
      "[ 0  1  0 ... 12 13 14]\n"
     ]
    }
   ],
   "source": [
    "import random\n",
    "position = 0\n",
    "walk = [position]\n",
    "nsteps = 1000\n",
    "for _ in range(nsteps):\n",
    "    step = 1 if random.randint(0, 1) else -1\n",
    "    position += step\n",
    "    walk.append(position)\n",
    "walk_arr = np.array(walk)\n",
    "print(walk_arr)"
   ]
  },
  {
   "cell_type": "code",
   "execution_count": 139,
   "id": "c8605f1a-0656-4318-bffd-61bd68c6a075",
   "metadata": {},
   "outputs": [
    {
     "data": {
      "text/plain": [
       "<Figure size 640x480 with 0 Axes>"
      ]
     },
     "execution_count": 139,
     "metadata": {},
     "output_type": "execute_result"
    },
    {
     "data": {
      "text/plain": [
       "<Figure size 640x480 with 0 Axes>"
      ]
     },
     "metadata": {},
     "output_type": "display_data"
    }
   ],
   "source": [
    "import matplotlib.pyplot as plt\n",
    "plt.figure()"
   ]
  },
  {
   "cell_type": "code",
   "execution_count": 141,
   "id": "bf23a9b5-365a-4f5e-b7f2-169e17d14e6a",
   "metadata": {},
   "outputs": [
    {
     "data": {
      "text/plain": [
       "<function matplotlib.pyplot.show(close=None, block=None)>"
      ]
     },
     "execution_count": 141,
     "metadata": {},
     "output_type": "execute_result"
    },
    {
     "data": {
      "image/png": "[encoded data removed]",
      "text/plain": [
       "<Figure size 640x480 with 1 Axes>"
      ]
     },
     "metadata": {},
     "output_type": "display_data"
    }
   ],
   "source": [
    "plt.plot(walk_arr[:100])\n",
    "plt.show"
   ]
  },
  {
   "cell_type": "code",
   "execution_count": 144,
   "id": "66f15082-0dc9-4ab3-ab87-3ca48c0ca271",
   "metadata": {},
   "outputs": [
    {
     "name": "stdout",
     "output_type": "stream",
     "text": [
      "19\n",
      "-1\n",
      "19\n"
     ]
    }
   ],
   "source": [
    "print(walk_arr[:100].max()) #가장 큰값을 구하는 명령어\n",
    "print(walk_arr[:100].min()) #가장 작은값을 구하는 명령어\n",
    "print((walk_arr[:100] >= 5).argmax()) #5를 넘는 범위에서 가장 큰 값 구하는 명령어"
   ]
  },
  {
   "cell_type": "code",
   "execution_count": null,
   "id": "abcaf481-55b2-4978-a088-c7412b7c966c",
   "metadata": {},
   "outputs": [],
   "source": []
  },
  {
   "cell_type": "code",
   "execution_count": null,
   "id": "54a78eaf-d04d-43be-b202-e1155f3073f2",
   "metadata": {},
   "outputs": [],
   "source": []
  },
  {
   "cell_type": "code",
   "execution_count": null,
   "id": "e58063c6-05e9-4bc9-8bd5-8074d2686a06",
   "metadata": {},
   "outputs": [],
   "source": []
  },
  {
   "cell_type": "code",
   "execution_count": null,
   "id": "8650c187-6e5c-423b-a991-e7f255484767",
   "metadata": {},
   "outputs": [],
   "source": []
  },
  {
   "cell_type": "code",
   "execution_count": null,
   "id": "c51fd31b-8e23-44a0-82e3-584bd00333f8",
   "metadata": {},
   "outputs": [],
   "source": []
  },
  {
   "cell_type": "code",
   "execution_count": null,
   "id": "5ff6b28a-ac90-447b-86ae-ad497c48160b",
   "metadata": {},
   "outputs": [],
   "source": []
  },
  {
   "cell_type": "code",
   "execution_count": null,
   "id": "130675a8-db3d-45a1-9374-712584d2e651",
   "metadata": {},
   "outputs": [],
   "source": []
  },
  {
   "cell_type": "code",
   "execution_count": null,
   "id": "2733f376-821e-4b8a-86e2-5bc6c338f798",
   "metadata": {},
   "outputs": [],
   "source": []
  },
  {
   "cell_type": "code",
   "execution_count": null,
   "id": "03704a59-6d21-4053-9fba-d029d4205661",
   "metadata": {},
   "outputs": [],
   "source": [
    "s"
   ]
  },
  {
   "cell_type": "code",
   "execution_count": null,
   "id": "7ba2f757-b6d7-4043-93ac-ec13e5daae48",
   "metadata": {},
   "outputs": [],
   "source": []
  },
  {
   "cell_type": "code",
   "execution_count": null,
   "id": "b23b97b8-0ddc-49a9-b0e3-dbace340dd87",
   "metadata": {},
   "outputs": [],
   "source": []
  },
  {
   "cell_type": "code",
   "execution_count": null,
   "id": "01e6c810-74a8-4144-badf-b547d2097665",
   "metadata": {},
   "outputs": [],
   "source": []
  },
  {
   "cell_type": "code",
   "execution_count": null,
   "id": "c0dde247-17e9-4d9a-8357-aa856d86109e",
   "metadata": {},
   "outputs": [],
   "source": []
  }
 ],
 "metadata": {
  "kernelspec": {
   "display_name": "Python 3 (ipykernel)",
   "language": "python",
   "name": "python3"
  },
  "language_info": {
   "codemirror_mode": {
    "name": "ipython",
    "version": 3
   },
   "file_extension": ".py",
   "mimetype": "text/x-python",
   "name": "python",
   "nbconvert_exporter": "python",
   "pygments_lexer": "ipython3",
   "version": "3.12.4"
  }
 },
 "nbformat": 4,
 "nbformat_minor": 5
}
